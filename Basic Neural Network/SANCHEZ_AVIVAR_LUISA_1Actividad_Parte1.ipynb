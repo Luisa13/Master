{
 "cells": [
  {
   "cell_type": "markdown",
   "metadata": {
    "colab_type": "text",
    "id": "iiDzBoKGwmMZ"
   },
   "source": [
    "![UNIR](https://www.unir.net/wp-content/uploads/2014/10/logo.png)\n",
    "### Máster en Inteligencia Artificial. \n",
    "**Asignatura:** _Sistemas Cognitivos Artificiales_\n",
    "\n",
    "**Alumno:** _Luisa Sánchez Avivar_\n",
    "\n",
    "**Fecha:** _5 Mayo 2020_\n",
    "\n",
    "---\n",
    "\n",
    "# ACTIVIDAD 1: Redes neuronales con Keras\n",
    "\n",
    "**Objetivo:** Crear una primera red sencilla con Keras y utilizar otros conceptos avanzados vistos en teoría.\n",
    "___"
   ]
  },
  {
   "cell_type": "markdown",
   "metadata": {},
   "source": [
    "# Primera parte: Introducción a las redes neuronales con Keras\n",
    "\n",
    "En esta primera parte, vamos a utilizar una red neuronal para clasificar imágenes de prendas de ropa. Para ello, utilizaremos Keras con TensorFlow.\n",
    "\n",
    "El dataset a utilizar es Fashion MNIST, un problema sencillo con imágenes pequeñas de ropa, pero más interesante que el dataset de MNIST. Puedes consultar más información sobre el dataset en [este enlace](https://github.com/zalandoresearch/fashion-mnist).\n",
    "\n",
    "El código utilizado para contestar tiene que quedar claramente reflejado en el Notebook. Puedes crear nuevas cells si así lo deseas para estructurar tu código y sus salidas. A la hora de entregar el notebook, **asegúrate de que los resultados de ejecutar tu código han quedado guardados** (por ejemplo, a la hora de entrenar una red neuronal tiene que verse claramente un log de los resultados de cada epoch)."
   ]
  },
  {
   "cell_type": "code",
   "execution_count": 128,
   "metadata": {
    "colab": {},
    "colab_type": "code",
    "id": "gSHr268SwmMa"
   },
   "outputs": [],
   "source": [
    "import keras\n",
    "from keras.datasets import fashion_mnist\n",
    "from keras.models import Sequential\n",
    "from keras.layers import Dense\n",
    "import tensorflow as tf\n",
    "\n",
    "import matplotlib.pyplot as plt"
   ]
  },
  {
   "cell_type": "markdown",
   "metadata": {
    "colab_type": "text",
    "id": "PhYq8-CvwmMc"
   },
   "source": [
    "Primero, vamos a obtener los datos. Por suerte para nosotros, estos pueden ser descargados directamente desde Keras, por lo que no tendremos que preocuparnos de tratar con ficheros."
   ]
  },
  {
   "cell_type": "code",
   "execution_count": 129,
   "metadata": {
    "colab": {},
    "colab_type": "code",
    "id": "0mjrFULOwmMd"
   },
   "outputs": [],
   "source": [
    "(x_train, y_train), (x_test, y_test) = fashion_mnist.load_data()"
   ]
  },
  {
   "cell_type": "markdown",
   "metadata": {
    "colab_type": "text",
    "id": "AOVoeoj0wmMe"
   },
   "source": [
    "Acto seguido, normalizamos esos datos de manera similar a como hemos visto con MNIST, obteniendo valores entre 0 y 1. Este paso es muy importante para el correcto funcionamiento de nuestra red."
   ]
  },
  {
   "cell_type": "code",
   "execution_count": 130,
   "metadata": {
    "colab": {},
    "colab_type": "code",
    "id": "5EgKN2YWwmMf"
   },
   "outputs": [],
   "source": [
    "x_train = x_train / 255.0\n",
    "x_test = x_test / 255.0"
   ]
  },
  {
   "cell_type": "markdown",
   "metadata": {
    "colab_type": "text",
    "id": "BaqXlSMBwmMg"
   },
   "source": [
    "## 1. Información sobre el dataset"
   ]
  },
  {
   "cell_type": "markdown",
   "metadata": {
    "colab_type": "text",
    "id": "e0aer8ZZwmMh"
   },
   "source": [
    "Una vez tenemos los datos cargados en memoria, vamos a obtener información sobre los mismos."
   ]
  },
  {
   "cell_type": "markdown",
   "metadata": {
    "colab_type": "text",
    "id": "E-im9PnEwmMh"
   },
   "source": [
    "**Pregunta 1.1 *(0.25 puntos)*** ¿Cuántas imágenes hay de *training* y de *test*? ¿Qué tamaño tienen las imágenes?"
   ]
  },
  {
   "cell_type": "markdown",
   "metadata": {},
   "source": [
    "**Training Set**"
   ]
  },
  {
   "cell_type": "code",
   "execution_count": 131,
   "metadata": {
    "colab": {},
    "colab_type": "code",
    "id": "lvP0Y4SCwmMi"
   },
   "outputs": [
    {
     "name": "stdout",
     "output_type": "stream",
     "text": [
      "Tiene 60000 imágenes donde cada imágen está representada por 28 x 28 píxeles\n"
     ]
    },
    {
     "data": {
      "text/plain": [
       "(60000, 28, 28)"
      ]
     },
     "execution_count": 131,
     "metadata": {},
     "output_type": "execute_result"
    }
   ],
   "source": [
    "print(\"Tiene \" + str(len(x_train)) + \" imágenes donde cada imágen está representada por 28 x 28 píxeles\")\n",
    "x_train.shape"
   ]
  },
  {
   "cell_type": "markdown",
   "metadata": {},
   "source": [
    "**Test Set**"
   ]
  },
  {
   "cell_type": "code",
   "execution_count": 132,
   "metadata": {},
   "outputs": [
    {
     "name": "stdout",
     "output_type": "stream",
     "text": [
      "Tiene 10000 imágenes donde cada imágen está representada por 28 x 28 píxeles\n"
     ]
    },
    {
     "data": {
      "text/plain": [
       "(10000, 28, 28)"
      ]
     },
     "execution_count": 132,
     "metadata": {},
     "output_type": "execute_result"
    }
   ],
   "source": [
    "print(\"Tiene \" + str(len(x_test)) + \" imágenes donde cada imágen está representada por 28 x 28 píxeles\")\n",
    "x_test.shape"
   ]
  },
  {
   "cell_type": "markdown",
   "metadata": {
    "colab_type": "text",
    "id": "Xwp5ljFKwmMj"
   },
   "source": [
    "*Tu respuesta aquí*"
   ]
  },
  {
   "cell_type": "markdown",
   "metadata": {
    "colab_type": "text",
    "id": "F2LsvfHOwmMk"
   },
   "source": [
    "**Pregunta 1.2 *(0.25 puntos)*** Realizar una exploración de las variables que contienen los datos. Describir en qué consiste un example del dataset (qué información se guarda en cada imagen) y describir qué contiene la información en y."
   ]
  },
  {
   "cell_type": "code",
   "execution_count": 133,
   "metadata": {
    "colab": {},
    "colab_type": "code",
    "id": "3W5rzaGxwmMk"
   },
   "outputs": [
    {
     "name": "stdout",
     "output_type": "stream",
     "text": [
      "(60000, 10)\n"
     ]
    }
   ],
   "source": [
    "y_train = keras.utils.to_categorical(y_train)\n",
    "# print(x_train)\n",
    "# print(y_train)\n",
    "n_classes = len(y_train[1])\n",
    "print(y_train.shape)"
   ]
  },
  {
   "attachments": {
    "image.png": {
     "image/png": "[encoded data removed]"
    }
   },
   "cell_type": "markdown",
   "metadata": {
    "colab_type": "text",
    "id": "zaEWKFyvwmMm"
   },
   "source": [
    "**X_train** y **y_train** son arrays de mi dataset de entrenamiento. *x_train* contiene imágenes de 28x28 píxeles donde cada valor está comprendido en el rango [0, 255] mientras que *y_train* son las clases que representan el dataset (las etiquetas con las que clasifica cada ítem): 10 en total. Si lo imprimimos vemos que es un array de enteros con valores comprendidos de 0 a 9. Echándole un ojo a [los datos](https://github.com/zalandoresearch/fashion-mnist) vemos que las clases están mapeadas como podemos ver aquí:\n",
    "\n",
    "![image.png](attachment:image.png)\n",
    "\n",
    "Ahora tiene un poco más de sentido: cada valor en *y_train* es una etiqueta que corresponde al nombre de una prenda de ropa (aparentemente estos nombres no están en el dataset que se maneja). "
   ]
  },
  {
   "cell_type": "code",
   "execution_count": 150,
   "metadata": {},
   "outputs": [],
   "source": [
    "class_names = ['T-shirt', 'Trouser', 'Pullover', 'Dress', 'Coat','Sandal', 'Shirt', 'Sneaker', 'Bag', 'Ankle boot']"
   ]
  },
  {
   "cell_type": "markdown",
   "metadata": {
    "colab_type": "text",
    "id": "HPNa3nH0wmMn"
   },
   "source": [
    "Vamos a **visualizar** una imagen de ejemplo. Prueba tu mismo a cambiar la imagen en uso para explorar el dataset visualmente ejecutando el siguiente código:"
   ]
  },
  {
   "cell_type": "code",
   "execution_count": 134,
   "metadata": {
    "colab": {},
    "colab_type": "code",
    "id": "WlQx9uk3wmMn"
   },
   "outputs": [],
   "source": [
    "def visualize_example(x):\n",
    "    plt.figure()\n",
    "    plt.imshow(x)\n",
    "    plt.colorbar()\n",
    "    plt.grid(False)\n",
    "    plt.show()"
   ]
  },
  {
   "cell_type": "code",
   "execution_count": 135,
   "metadata": {
    "colab": {},
    "colab_type": "code",
    "id": "YTHt4fd2wmMp",
    "outputId": "491b032b-a674-4185-b04a-bf2156bacb7e"
   },
   "outputs": [
    {
     "data": {
      "image/png": "[encoded data removed]",
      "text/plain": [
       "<Figure size 432x288 with 2 Axes>"
      ]
     },
     "metadata": {
      "needs_background": "light"
     },
     "output_type": "display_data"
    }
   ],
   "source": [
    "visualize_example(x_train[5])"
   ]
  },
  {
   "cell_type": "code",
   "execution_count": 136,
   "metadata": {},
   "outputs": [],
   "source": [
    "def visualize_sample(size):\n",
    "    plt.figure(figsize=(5,5))\n",
    "    cols = size / 5\n",
    "    for i in range(size):\n",
    "        plt.subplot(5,cols, i+1)\n",
    "        plt.xticks([])\n",
    "        plt.yticks([])\n",
    "        plt.grid(False)\n",
    "        plt.imshow(x_train[i], cmap=plt.cm.binary)\n",
    "    plt.show()\n",
    "    "
   ]
  },
  {
   "cell_type": "code",
   "execution_count": 137,
   "metadata": {},
   "outputs": [
    {
     "data": {
      "image/png": "[encoded data removed]",
      "text/plain": [
       "<Figure size 360x360 with 40 Axes>"
      ]
     },
     "metadata": {},
     "output_type": "display_data"
    }
   ],
   "source": [
    "visualize_sample(40)"
   ]
  },
  {
   "cell_type": "markdown",
   "metadata": {
    "colab_type": "text",
    "id": "USVefNOIwmMt"
   },
   "source": [
    "## 2. Entrenamiento de una red neuronal simple"
   ]
  },
  {
   "cell_type": "markdown",
   "metadata": {
    "colab_type": "text",
    "id": "sSWjUeOdwmMt"
   },
   "source": [
    "**Pregunta 2 *(3.5 puntos)***. Utilizando Keras, y preparando los datos de X e y como fuera necesario, define y entrena una red neuronal que sea capaz de clasificar imágenes de Fashion MNIST con las siguientes características:\n",
    "\n",
    "* Dos hidden layers de tamaños 128 y 64, utilizando unidades **sigmoid**\n",
    "* Optimizador **sgd**.\n",
    "* Durante el entrenamiento, la red tiene que mostrar resultados de **loss** y **accuracy** por cada epoch.\n",
    "* La red debe entrenar durante **20 epochs** y batch size de **64**.\n",
    "* La última capa debe de ser una capa **softmax**.\n",
    "\n",
    "Tu red tendría que ser capaz de superar fácilmente 60% de accuracy."
   ]
  },
  {
   "cell_type": "markdown",
   "metadata": {},
   "source": [
    "### 2.1 Construcción del Modelo\n",
    "Construimos el modelo especificando a Keras que lo vamos a crear de manera secuencial.\n",
    "   La primera capa no tiene parámetros que aprender, simplemente reformatea los datos.\n",
    "A continuación definimos como input dos hidden layers definidas con *Dense* para especificar que son capas *fully conected*. La primera tiene 128 neuronas y la segunda 64 donde usamos *sigmoid* como función de activación.\n",
    "La última capa toma tantos nodos como número de clases, de manera que cada nodo tomará una puntuación que indica a qué clase pertenece una imagen determinada. En esta *output layer* usamos *softmax* como función de activación la cual se usa para hacer predicciones en modelos multiclase. Esto devolverá la probabilidad de cada una de las clases dentro de un grupo de clases con la que haya puntuado más alto."
   ]
  },
  {
   "cell_type": "code",
   "execution_count": 138,
   "metadata": {
    "colab": {},
    "colab_type": "code",
    "id": "cCh7qRMTwmMt"
   },
   "outputs": [],
   "source": [
    "model = Sequential([\n",
    "    keras.layers.Flatten(input_shape=(28,28)),\n",
    "    Dense(128, activation='sigmoid'),\n",
    "    Dense(64, activation='sigmoid'),\n",
    "    Dense(n_classes, activation='softmax')\n",
    "])\n",
    "\n",
    "model.summary()"
   ]
  },
  {
   "cell_type": "markdown",
   "metadata": {},
   "source": [
    "### 2.2 Compilación del Modelo\n",
    "Antes de entrenar el modelo debemos definir:\n",
    "- **Optimizer** Sgd (Stochastic Gradient Descent)\n",
    "- **Loss** En coherencia con la función de activación en la output layer, *categorical_crossentropy* especifica que tenemos un modelo **multiclase**"
   ]
  },
  {
   "cell_type": "code",
   "execution_count": 139,
   "metadata": {},
   "outputs": [],
   "source": [
    "model.compile(\n",
    "    optimizer = 'sgd',\n",
    "    loss='categorical_crossentropy',\n",
    "    metrics=['accuracy']\n",
    ")"
   ]
  },
  {
   "cell_type": "markdown",
   "metadata": {},
   "source": [
    "### 2.3 Entrenamiento del Modelo\n",
    "Notamos que antes de entrenar el modelo, debemos categorizar las *etiquetas* cmo ya hice en:\n",
    "```\n",
    "y_train = keras.utils.to_categorical(y_train)\n",
    "```"
   ]
  },
  {
   "cell_type": "code",
   "execution_count": 140,
   "metadata": {},
   "outputs": [
    {
     "name": "stdout",
     "output_type": "stream",
     "text": [
      "Epoch 1/20\n",
      "60000/60000 [==============================] - 2s 34us/step - loss: 2.2249 - accuracy: 0.3853\n",
      "Epoch 2/20\n",
      "60000/60000 [==============================] - 2s 35us/step - loss: 1.9020 - accuracy: 0.5466\n",
      "Epoch 3/20\n",
      "60000/60000 [==============================] - 2s 33us/step - loss: 1.4925 - accuracy: 0.5984\n",
      "Epoch 4/20\n",
      "60000/60000 [==============================] - 2s 34us/step - loss: 1.2300 - accuracy: 0.6387\n",
      "Epoch 5/20\n",
      "60000/60000 [==============================] - 2s 36us/step - loss: 1.0751 - accuracy: 0.6692\n",
      "Epoch 6/20\n",
      "60000/60000 [==============================] - 3s 43us/step - loss: 0.9717 - accuracy: 0.6943\n",
      "Epoch 7/20\n",
      "60000/60000 [==============================] - 2s 33us/step - loss: 0.8941 - accuracy: 0.7117\n",
      "Epoch 8/20\n",
      "60000/60000 [==============================] - 2s 32us/step - loss: 0.8321 - accuracy: 0.7260\n",
      "Epoch 9/20\n",
      "60000/60000 [==============================] - 2s 35us/step - loss: 0.7822 - accuracy: 0.7366\n",
      "Epoch 10/20\n",
      "60000/60000 [==============================] - 2s 39us/step - loss: 0.7418 - accuracy: 0.7441\n",
      "Epoch 11/20\n",
      "60000/60000 [==============================] - 2s 39us/step - loss: 0.7089 - accuracy: 0.7516\n",
      "Epoch 12/20\n",
      "60000/60000 [==============================] - 2s 34us/step - loss: 0.6820 - accuracy: 0.7585\n",
      "Epoch 13/20\n",
      "60000/60000 [==============================] - 3s 45us/step - loss: 0.6594 - accuracy: 0.7638\n",
      "Epoch 14/20\n",
      "60000/60000 [==============================] - 3s 47us/step - loss: 0.6402 - accuracy: 0.7696\n",
      "Epoch 15/20\n",
      "60000/60000 [==============================] - 2s 35us/step - loss: 0.6234 - accuracy: 0.7755\n",
      "Epoch 16/20\n",
      "60000/60000 [==============================] - 2s 40us/step - loss: 0.6088 - accuracy: 0.7812\n",
      "Epoch 17/20\n",
      "60000/60000 [==============================] - 3s 44us/step - loss: 0.5954 - accuracy: 0.7868\n",
      "Epoch 18/20\n",
      "60000/60000 [==============================] - 2s 37us/step - loss: 0.5834 - accuracy: 0.7912\n",
      "Epoch 19/20\n",
      "60000/60000 [==============================] - 2s 38us/step - loss: 0.5725 - accuracy: 0.7951\n",
      "Epoch 20/20\n",
      "60000/60000 [==============================] - 3s 49us/step - loss: 0.5624 - accuracy: 0.8004\n"
     ]
    },
    {
     "data": {
      "text/plain": [
       "<keras.callbacks.callbacks.History at 0x2086d258188>"
      ]
     },
     "execution_count": 140,
     "metadata": {},
     "output_type": "execute_result"
    }
   ],
   "source": [
    "model.fit(x_train, y_train, epochs=20, batch_size=64)"
   ]
  },
  {
   "cell_type": "markdown",
   "metadata": {
    "colab_type": "text",
    "id": "CZux6TmvwmMv"
   },
   "source": [
    "## 3. Evaluación del modelo en datos de test"
   ]
  },
  {
   "cell_type": "markdown",
   "metadata": {
    "colab_type": "text",
    "id": "0SzHBkzrwmMw"
   },
   "source": [
    "Una vez hemos entrenado nuestro modelo, vamos a evaluarlo en los datos de test de Fashion MNIST.\n",
    "\n",
    "**Pregunta 3.1 *(0.5 puntos)***. Utilizando el modelo recién entrenado, obtener la accuracy resultante en el dataset de test."
   ]
  },
  {
   "cell_type": "code",
   "execution_count": 141,
   "metadata": {
    "colab": {},
    "colab_type": "code",
    "id": "9CSLZkW1wmMw"
   },
   "outputs": [
    {
     "name": "stdout",
     "output_type": "stream",
     "text": [
      "Accuracy: 0.7925000190734863\n"
     ]
    }
   ],
   "source": [
    "y_test = keras.utils.to_categorical(y_test)\n",
    "loss, accuracy = model.evaluate(x_test, y_test, verbose=2)\n",
    "print('Accuracy: ' + str(accuracy))"
   ]
  },
  {
   "cell_type": "code",
   "execution_count": 144,
   "metadata": {},
   "outputs": [
    {
     "name": "stdout",
     "output_type": "stream",
     "text": [
      "10000/10000 [==============================] - 0s 20us/step\n"
     ]
    },
    {
     "data": {
      "text/plain": [
       "[0.579236515712738, 0.7925000190734863]"
      ]
     },
     "execution_count": 144,
     "metadata": {},
     "output_type": "execute_result"
    }
   ],
   "source": [
    "model.evaluate(\n",
    "  x_test,\n",
    "  y_test\n",
    ")"
   ]
  },
  {
   "cell_type": "markdown",
   "metadata": {
    "colab_type": "text",
    "id": "ud0JCcZpwmMx"
   },
   "source": [
    "**Pregunta 3.2 *(0.5 puntos)***. Utilizando el método **predict** de Keras, realizar predicciones para los datos de test. Por cada predicción resultante, ¿qué significan los números que obtenemos al hacer predict? ¿Cómo podemos obtener el valor de la clase resultante? (recordar que estamos utilizando una capa softmax para clasificar)."
   ]
  },
  {
   "cell_type": "code",
   "execution_count": 187,
   "metadata": {},
   "outputs": [],
   "source": [
    "def visualize_probabilities(img_index, label_ground_truth):\n",
    "    plt.xticks(range(10), class_names, rotation=45)\n",
    "    thisplot = plt.bar(range(10), predictions[img_index], color=\"#777777\")\n",
    "    predicted_label = np.argmax(predictions[img_index])\n",
    "    thisplot[predicted_label].set_color('red')\n",
    "    thisplot[label_ground_truth].set_color('blue')"
   ]
  },
  {
   "cell_type": "code",
   "execution_count": 211,
   "metadata": {
    "colab": {},
    "colab_type": "code",
    "id": "0wrXVJJ9wmMy"
   },
   "outputs": [
    {
     "name": "stdout",
     "output_type": "stream",
     "text": [
      "[8.7824206e-05 1.5406546e-04 2.1492744e-04 1.9025887e-04 2.7522061e-04\n",
      " 2.0292258e-01 2.3843984e-04 2.5104630e-01 1.5377248e-02 5.2949303e-01]\n",
      "\n",
      "Ankle boot\n",
      "[0. 0. 0. 0. 0. 0. 0. 1. 0. 0.]\n"
     ]
    },
    {
     "data": {
      "image/png": "[encoded data removed]",
      "text/plain": [
       "<Figure size 432x288 with 2 Axes>"
      ]
     },
     "metadata": {
      "needs_background": "light"
     },
     "output_type": "display_data"
    },
    {
     "data": {
      "image/png": "[encoded data removed]",
      "text/plain": [
       "<Figure size 432x288 with 1 Axes>"
      ]
     },
     "metadata": {
      "needs_background": "light"
     },
     "output_type": "display_data"
    }
   ],
   "source": [
    "import numpy as np\n",
    "img_to_predict = 0\n",
    "\n",
    "# Hacemos la predicción de las imágenes de test\n",
    "predictions = model.predict(x_test)\n",
    "\n",
    "# Cogemos las predicciones vinculadas a la primera imagen (por ejemplo)\n",
    "first_img_prediction = predictions[img_to_predict]\n",
    "test_prediction = np.argmax(first_img_prediction)\n",
    "print(first_img_prediction)\n",
    "\n",
    "# Imprimimos la clase más probable: la que puntúa más alto\n",
    "print('\\n' + class_names[test_prediction])\n",
    "\n",
    "#Comprobamos con cuál debería ser\n",
    "print(y_test[test_prediction])\n",
    "\n",
    "#Finalmente vemos: La imagen que queremos probar, la clase que se le predice y las probabilidades asociadas\n",
    "visualize_example(x_test[img_to_predict])\n",
    "visualize_probabilities(img_to_predict, test_prediction)\n",
    "\n"
   ]
  },
  {
   "cell_type": "markdown",
   "metadata": {
    "colab_type": "text",
    "id": "fZynBpMBwmM2"
   },
   "source": [
    "El array que obtenemos al principio al imprimir la variable *first_img_prediction* son las predicciones asociadas a la imagen que estamos probando en el código; Es decir, las probabilidades asociadas a cada clase que intenta predecir a cuál de ellas pertenece la imágen. *predictions* contendrá por lo tanto una matriz donde cada valor son ese conjunto de probabilidades asociadas a clada clase por cada imagen.\n",
    "   "
   ]
  }
 ],
 "metadata": {
  "colab": {
   "name": "Actividad 1 - Parte 1",
   "provenance": [],
   "version": "0.3.2"
  },
  "kernelspec": {
   "display_name": "Python 3",
   "language": "python",
   "name": "python3"
  },
  "language_info": {
   "codemirror_mode": {
    "name": "ipython",
    "version": 3
   },
   "file_extension": ".py",
   "mimetype": "text/x-python",
   "name": "python",
   "nbconvert_exporter": "python",
   "pygments_lexer": "ipython3",
   "version": "3.7.7"
  }
 },
 "nbformat": 4,
 "nbformat_minor": 4
}
