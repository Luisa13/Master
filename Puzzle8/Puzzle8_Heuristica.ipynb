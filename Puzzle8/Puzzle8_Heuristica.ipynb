{
 "cells": [
  {
   "cell_type": "markdown",
   "metadata": {},
   "source": [
    "##### ![UNIR](https://www.unir.net/wp-content/uploads/2014/10/logo.png)\n",
    "### Máster en Inteligencia Artificial. \n",
    "**Asignatura:** _Razonamiento y Planificación Automática._\n",
    "\n",
    "**Equipo 35:** Carlos Sagüés García, F.Javier Marín Sánchez y Luisa Sánchez Avivar\n",
    "\n",
    "**Fecha:** _30 Enero 2020_\n",
    "\n",
    "---\n",
    "\n",
    "# ACTIVIDAD 2: Resolución del problema del puzzle-8 mediante búsqueda heurística.\n",
    "\n",
    "**Objetivo:** Esta actividad pretende conseguir implementar la estrategia de búsqueda heurística\n",
    "A* para la resolución del problema del puzzle-8.\n",
    "___"
   ]
  },
  {
   "cell_type": "code",
   "execution_count": 1,
   "metadata": {},
   "outputs": [],
   "source": [
    "# Manhattan (arriba-abajo y derecha-izquierda) o euclidea (siempre)"
   ]
  },
  {
   "cell_type": "code",
   "execution_count": 4,
   "metadata": {},
   "outputs": [],
   "source": [
    "#Cargamos las librerias\n",
    "import numpy as np\n",
    "import pandas as pd"
   ]
  },
  {
   "cell_type": "markdown",
   "metadata": {},
   "source": [
    "### Heurísticas\n",
    "Nuestra heurística se basa en la distancia Manhattan, que define la distancia entre dos puntos como la suma de las diferencias (absolutas) de sus coordenadas. La función de evaluación de los nodos se define como:\n",
    " _**f(n) = g(n) + h'(n)**_\n",
    "\n",
    "Donde h'(n) mide la distancia (Manhattan) del nodo actual al nodo final.\n",
    "g(n) son los nodos recorridos desde el inicio hasta el estado actual.\n"
   ]
  },
  {
   "cell_type": "code",
   "execution_count": 6,
   "metadata": {},
   "outputs": [],
   "source": [
    "'''\n",
    "Devuelve la distancia entre dos puntos (final e inicial), que se \n",
    "calcula como la suma de las diferencias absolutas de sus coordenadas.\n",
    "'''\n",
    "def h_manhattan(e_inicial, e_final):\n",
    "    #Distancia Inicial = 0\n",
    "    h = 0\n",
    "    \n",
    "    for row in range(e_inicial.shape[0]):\n",
    "        for col in range(e_inicial.shape[1]):\n",
    "            valor_inicial = e_inicial[row, col]\n",
    "            valor_final = e_final[row, col]\n",
    "            # El valor inicial esta bien colocado o es 0\n",
    "            if (valor_inicial == valor_final) | (valor_inicial == 0):\n",
    "                continue\n",
    "            # El valor inicial NO esta bien colocado\n",
    "            else:\n",
    "                # Posicion del valor descolocado en la matriz inicial\n",
    "                pos_inicial = np.array([row, col])\n",
    "                # Posicion del valor descolocado en la matriz final\n",
    "                pos_final = np.argwhere(e_final==valor_inicial)[0]\n",
    "                # Se restan ambos arrays y se suma el resultado, sumandoselo a h\n",
    "                h += sum(abs(pos_inicial-pos_final))\n",
    "    return h"
   ]
  },
  {
   "cell_type": "markdown",
   "metadata": {},
   "source": [
    "### Clases\n",
    "\n",
    "Usaremos la clase estado que define la estructura del estado del nodo\n"
   ]
  },
  {
   "cell_type": "code",
   "execution_count": 5,
   "metadata": {},
   "outputs": [],
   "source": [
    "'''\n",
    "Define la estructura de un nodo\n",
    "'''\n",
    "class estado:\n",
    "    def  __init__(self, nodo, g, f, padre, vecinos, movimiento):\n",
    "        self.nodo = nodo\n",
    "        self.g = g\n",
    "        self.f = f\n",
    "        self.padre = padre\n",
    "        self.vecinos = vecinos\n",
    "        self.movimiento = movimiento"
   ]
  },
  {
   "cell_type": "markdown",
   "metadata": {},
   "source": [
    "### Funciones"
   ]
  },
  {
   "cell_type": "code",
   "execution_count": 7,
   "metadata": {},
   "outputs": [],
   "source": [
    "'''\n",
    "Devuelve una lista de nodos como posibles movimientos a partir de un nodo determinado (posicion actual)\n",
    "    estado_analizar: Nodo actual\n",
    "'''\n",
    "\n",
    "def buscador_vecinos(estado_analizar):\n",
    "        valores_posibles = list(np.arange(3))\n",
    "        # nodo del estado padre\n",
    "        nodo_estado = estado_analizar.nodo\n",
    "        # lista de vecinos\n",
    "        lista_vecinos = []\n",
    "        # posicion del hueco\n",
    "        pos_0 = np.argwhere(nodo_estado==0)[0]\n",
    "        # movimiento arriba\n",
    "        if  pos_0[0]+1 in valores_posibles:\n",
    "            valor_up = nodo_estado[pos_0[0]+1, pos_0[1]]\n",
    "            nodo_up =  nodo_estado.copy()\n",
    "            nodo_up[pos_0[0], pos_0[1]] = valor_up\n",
    "            nodo_up[pos_0[0]+1, pos_0[1]] = 0\n",
    "            movimiento = \"mover \" + str(valor_up) + \" hacia arriba\"\n",
    "            vecino_up = estado(nodo_up, None, None, estado, None, movimiento)\n",
    "            lista_vecinos.append(vecino_up)\n",
    "        # movimiento abajo\n",
    "        if pos_0[0]-1 in valores_posibles:\n",
    "            valor_down = nodo_estado[pos_0[0]-1, pos_0[1]]\n",
    "            nodo_down =  nodo_estado.copy()\n",
    "            nodo_down[pos_0[0], pos_0[1]] = valor_down\n",
    "            nodo_down[pos_0[0]-1, pos_0[1]] = 0\n",
    "            movimiento = \"mover \" + str(valor_down) + \" hacia abajo\"\n",
    "            vecino_down = estado(nodo_down, None, None, estado, None, movimiento)\n",
    "            lista_vecinos.append(vecino_down)\n",
    "        # movimiento derecho\n",
    "        if pos_0[1]-1 in valores_posibles:\n",
    "            valor_right = nodo_estado[pos_0[0], pos_0[1]-1]\n",
    "            nodo_right =  nodo_estado.copy()\n",
    "            nodo_right[pos_0[0], pos_0[1]] = valor_right\n",
    "            nodo_right[pos_0[0], pos_0[1]-1] = 0\n",
    "            movimiento = \"mover \" + str(valor_right) + \" hacia la derecha\"\n",
    "            vecino_right = estado(nodo_right, None, None, estado, None, movimiento)\n",
    "            lista_vecinos.append(vecino_right)\n",
    "        # movimiento izquierdo\n",
    "        if pos_0[1]+1 in valores_posibles:\n",
    "            valor_left = nodo_estado[pos_0[0], pos_0[1]+1]\n",
    "            nodo_left =  nodo_estado.copy()\n",
    "            nodo_left[pos_0[0], pos_0[1]] = valor_left\n",
    "            nodo_left[pos_0[0], pos_0[1]+1] = 0\n",
    "            movimiento = \"mover \" + str(valor_left) + \" hacia la izquierda\"\n",
    "            vecino_left = estado(nodo_left, None, None, estado, None, movimiento)\n",
    "            lista_vecinos.append(vecino_left)\n",
    "        estado_analizar.vecinos = lista_vecinos"
   ]
  },
  {
   "cell_type": "code",
   "execution_count": 22,
   "metadata": {},
   "outputs": [],
   "source": [
    "'''\n",
    "Traza el camino seguido desde de un estado determinado y a partir de todos sus nodos explorados\n",
    "    estado: Nodo actual del que partimos\n",
    "    conjunto_cerrado: Lista de nodos explorados\n",
    "'''\n",
    "def reconstruccion_camino(estado, conjunto_cerrado):\n",
    "    # guardamos en una lista todos los padres\n",
    "    list_padres = [x[0].padre for x in conjunto_cerrado]\n",
    "    # obtenemos el padre del estado final\n",
    "    estado_padre = estado.padre\n",
    "    # añadimos el nodo del estado final al recorrido (desde nodo final al inicial)\n",
    "    nodos_recorrido = [[estado.nodo, estado.movimiento]]\n",
    "    while estado_padre.padre != 0:\n",
    "        # se añade el nodo padre a los nodos recorridos\n",
    "        nodos_recorrido.append([estado_padre.nodo, estado_padre.movimiento])\n",
    "        # se selecciona su padre\n",
    "        estado_padre = estado_padre.padre\n",
    "    # se añade el nodo inicial\n",
    "    nodos_recorrido.append([estado_padre.nodo, estado_padre.movimiento])\n",
    "    nodos_recorrido = nodos_recorrido[::-1]\n",
    "    for x in nodos_recorrido:\n",
    "        print(x[1])\n",
    "        print(x[0])\n",
    "        print('\\n')"
   ]
  },
  {
   "cell_type": "markdown",
   "metadata": {},
   "source": [
    "### Aplicación de A* para puzzle-8\n",
    "Para resolver el problema mediante el algoritmo usaremos dos listas: conjunto abierto, y conjunto cerrado. El conjunto abierto contendrá todos los nodos que son generados y que no existen en la lista cerrada. Tras expandir el estado actual se añade al conjunto cerrado y los nuevos estados encontrados, se añaden al conjunto abierto. Seleccionamos el nodo con menor f  expandimos de nuevo de forma iteativa hasta alcanzar nuestro objetivo: el estado final.\n"
   ]
  },
  {
   "cell_type": "code",
   "execution_count": 25,
   "metadata": {},
   "outputs": [],
   "source": [
    "'''\n",
    "Aplica el algoritmo A* para resolver el puzzle-8\n",
    "    nodo_incial: El estado inicial del puzzle\n",
    "    nodo_final: El estad final (objetivo) del puzzle\n",
    "'''\n",
    "\n",
    "def A_star(nodo_inicial, nodo_final):\n",
    "    ## f(n) = g(n) + h'(n) ##\n",
    "    # Estado inicial\n",
    "    estado_inicial = estado(None, None, None, 0, None, \"Estado inicial\")\n",
    "    # definir conjunto abierto: Nodos por tratar\n",
    "    conjunto_abierto = []\n",
    "    # definir conjunto cerrado: Nodos tratados\n",
    "    conjunto_cerrado = []\n",
    "    # iniciar el estado inicial g=0\n",
    "    estado_inicial.g = 0\n",
    "    # iniciar el estado inicial de f(n) = g(n) + h'(n)\n",
    "    estado_inicial.f = estado_inicial.g + h_manhattan(nodo_inicial, nodo_final)\n",
    "    # añadir el nodo inicial al estado inicial\n",
    "    estado_inicial.nodo = nodo_inicial\n",
    "    # agregar el estado inicial al conjunto abierto\n",
    "    conjunto_abierto.append(estado_inicial)\n",
    "    # agregar el estado inicial al conjunto cerrado\n",
    "    conjunto_cerrado.append([estado_inicial, estado_inicial.g])\n",
    "    # mientras el conjunto abiero no este vacio\n",
    "    while len(conjunto_abierto) != 0:\n",
    "        # selecciono el de menor f y lo saco del conjunto abierto\n",
    "        f_values = [x.f for x in conjunto_abierto]\n",
    "#         print([i for i, x in enumerate([f_values == min(f_values)][0]) if x])\n",
    "#         posicion_minimo = [i for i, x in enumerate([f_values == min(f_values)][0]) if x][0]\n",
    "        posicion_minimo = f_values.index(min(f_values))\n",
    "        estado_actual = conjunto_abierto[posicion_minimo]\n",
    "#         print(estado_actual.nodo)\n",
    "        conjunto_abierto.remove(conjunto_abierto[posicion_minimo])\n",
    "        # estados del conjunto cerrado\n",
    "        nodos_estados_conjunto_cerrado = [x[0].nodo for x in conjunto_cerrado]\n",
    "        # si el nodo del estado actual es igual al nodo del estado final\n",
    "        if (estado_actual.nodo == nodo_final).all():\n",
    "            reconstruccion_camino(estado_actual, conjunto_cerrado)\n",
    "            return print(\"FIN\")\n",
    "        # encontrar los posibles movimientos\n",
    "        vecinos = buscador_vecinos(estado_actual)\n",
    "        # analisis de vecinos\n",
    "        for estado_vecino in estado_actual.vecinos:\n",
    "            # g_tentativa = g (actual) + coste (+1 movimiento)\n",
    "            g_tentativa = estado_actual.g + 1\n",
    "            # que el nodo vecino no este en el conjunto cerrado o que el vecino este en el conjunto\n",
    "            # cerrado, pero g_tentativa sea menor que la g del vecino del conjunto cerrado\n",
    "            comparacion_nodos = [(x==estado_vecino.nodo).all() for x in nodos_estados_conjunto_cerrado]\n",
    "            if np.sum(comparacion_nodos*1) == 0:\n",
    "                # g tentativa\n",
    "                estado_vecino.g = g_tentativa\n",
    "                # f vecino\n",
    "                estado_vecino.f = estado_vecino.g + h_manhattan(estado_vecino.nodo, nodo_final)\n",
    "                # padre\n",
    "                estado_vecino.padre = estado_actual\n",
    "                # agregamos al conjunto vacio\n",
    "                conjunto_cerrado.append([estado_vecino, estado_vecino.g])\n",
    "                # agregamos al conjuinto abierto\n",
    "                conjunto_abierto.append(estado_vecino)\n",
    "            elif g_tentativa < conjunto_cerrado[[i for i, x in enumerate(comparacion_nodos) if x][0]][1]:\n",
    "                # g tentativa\n",
    "                estado_vecino.g = g_tentativa\n",
    "                # f vecino\n",
    "                estado_vecino.f = estado_vecino.g + h_manhattan(estado_vecino.nodo, nodo_final)\n",
    "                # padre\n",
    "                estado_vecino.padre = estado_actual\n",
    "                # agregamos al conjunto vacio\n",
    "                conjunto_cerrado.append([estado_vecino, estado_vecino.g])\n",
    "                # agregamos al conjuinto abierto\n",
    "                conjunto_abierto.append(estado_vecino)\n",
    "#         print('-   -   -   -   -  -   -   -   -   -  -   -   -   -   -  -   -   -   -   -  -   -   -   -   -')"
   ]
  },
  {
   "cell_type": "markdown",
   "metadata": {},
   "source": [
    "### Árbol de nodos\n",
    "Una muestra de como el algoritmo anterior resolvería el puzzle desde el estado inicial hasta llegar al estado final mostrando los valores de g(n) y h(n) respectivamente para la elección del camino a seguir"
   ]
  },
  {
   "cell_type": "markdown",
   "metadata": {},
   "source": [
    "<img src=\"arbol_puzzle.jpg\">"
   ]
  },
  {
   "cell_type": "markdown",
   "metadata": {},
   "source": [
    "### Test"
   ]
  },
  {
   "cell_type": "markdown",
   "metadata": {},
   "source": [
    "#### Estados"
   ]
  },
  {
   "cell_type": "code",
   "execution_count": 20,
   "metadata": {},
   "outputs": [],
   "source": [
    "nodo_inicial = np.matrix([[2, 8, 3], [1, 6, 4], [7, 0, 5]])\n",
    "nodo_final = np.matrix([[1, 2, 3], [8, 0, 4], [7, 6, 5]])\n",
    "\n",
    "# # Pruebas\n",
    "# nodo_inicial = np.matrix([[1, 2, 5], [3, 0, 6], [7, 4, 8]])\n",
    "# nodo_final = np.matrix([[1, 2, 3], [4, 5, 6], [7, 8, 0]])"
   ]
  },
  {
   "cell_type": "code",
   "execution_count": 23,
   "metadata": {},
   "outputs": [
    {
     "name": "stdout",
     "output_type": "stream",
     "text": [
      "Estado inicial\n",
      "[[2 8 3]\n",
      " [1 6 4]\n",
      " [7 0 5]]\n",
      "\n",
      "\n",
      "mover 6 hacia abajo\n",
      "[[2 8 3]\n",
      " [1 0 4]\n",
      " [7 6 5]]\n",
      "\n",
      "\n",
      "mover 8 hacia abajo\n",
      "[[2 0 3]\n",
      " [1 8 4]\n",
      " [7 6 5]]\n",
      "\n",
      "\n",
      "mover 2 hacia la derecha\n",
      "[[0 2 3]\n",
      " [1 8 4]\n",
      " [7 6 5]]\n",
      "\n",
      "\n",
      "mover 1 hacia arriba\n",
      "[[1 2 3]\n",
      " [0 8 4]\n",
      " [7 6 5]]\n",
      "\n",
      "\n",
      "mover 8 hacia la izquierda\n",
      "[[1 2 3]\n",
      " [8 0 4]\n",
      " [7 6 5]]\n",
      "\n",
      "\n",
      "FIN\n"
     ]
    }
   ],
   "source": [
    "A_star(nodo_inicial, nodo_final)"
   ]
  }
 ],
 "metadata": {
  "kernelspec": {
   "display_name": "Python 3",
   "language": "python",
   "name": "python3"
  },
  "language_info": {
   "codemirror_mode": {
    "name": "ipython",
    "version": 3
   },
   "file_extension": ".py",
   "mimetype": "text/x-python",
   "name": "python",
   "nbconvert_exporter": "python",
   "pygments_lexer": "ipython3",
   "version": "3.7.4"
  }
 },
 "nbformat": 4,
 "nbformat_minor": 4
}
